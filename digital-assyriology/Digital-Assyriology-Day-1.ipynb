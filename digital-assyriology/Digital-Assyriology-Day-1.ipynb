{
 "cells": [
  {
   "cell_type": "code",
   "execution_count": null,
   "metadata": {
    "collapsed": false
   },
   "outputs": [],
   "source": [
    "%pylab inline\n",
    "from datascience import *\n",
    "import matplotlib.pyplot as plt\n",
    "import pandas as pd\n",
    "import numpy as np\n",
    "import os\n",
    "import re"
   ]
  },
  {
   "cell_type": "markdown",
   "metadata": {},
   "source": [
    "# Notes\n",
    "\n",
    "- Changed all [he, she] into [he/ she]\n",
    "- Changed all [itself, themselves] to [itself/ themselves]"
   ]
  },
  {
   "cell_type": "code",
   "execution_count": null,
   "metadata": {
    "collapsed": false
   },
   "outputs": [],
   "source": [
    "Enmerkar_table = Table.read_table('Enmerkar.txt', sep = ',')\n",
    "Enmerkar_table = Enmerkar_table.drop(['text_name', 'etcsl_no'])\n",
    "Enmerkar_table"
   ]
  },
  {
   "cell_type": "code",
   "execution_count": null,
   "metadata": {
    "collapsed": true
   },
   "outputs": [],
   "source": [
    "def remove_space_from_labels(table):\n",
    "    for label in table.labels:\n",
    "        table.relabel(label, label.replace(' ', ''))\n",
    "    return table\n",
    "\n",
    "Enmerkar_table = remove_space_from_labels(Enmerkar_table)"
   ]
  },
  {
   "cell_type": "code",
   "execution_count": null,
   "metadata": {
    "collapsed": false
   },
   "outputs": [],
   "source": [
    "#drop rows of different translations\n",
    "to_be_dropped = []\n",
    "for i in Enmerkar_table['l_no']:\n",
    "    if re.search('[a-zA-Z]', i):\n",
    "        to_be_dropped.append(False)\n",
    "    else:\n",
    "        to_be_dropped.append(True)\n",
    "Enmerkar_table = Enmerkar_table.where(to_be_dropped)\n",
    "\n",
    "Enmerkar_table.labels"
   ]
  },
  {
   "cell_type": "code",
   "execution_count": null,
   "metadata": {
    "collapsed": false
   },
   "outputs": [],
   "source": [
    "proper_nouns = {\n",
    "'CN': 'Constellation Name (star)',\n",
    "'DN': 'Deity Name',\n",
    "'EN': 'Ethnicity Name',\n",
    "'FN': 'Field Name',\n",
    "'GN': 'Geographical Name (for regions and countries)',\n",
    "'MN': 'Month Name',\n",
    "'ON': 'Object Name (usually for objects associated with a god)',\n",
    "'PN': 'Personal Name',\n",
    "'RN': 'Royal Name',\n",
    "'SN': 'Settlement Name',\n",
    "'TN': 'Temple Name',\n",
    "'WN': 'Water Name',\n",
    "}\n",
    "\n",
    "simple_terms = {\n",
    "    'AJ': 'Adjective',\n",
    "    'AV': 'Adverb',\n",
    "    'C': 'Conjunction',\n",
    "    'N': 'Noun',\n",
    "    'NU': 'Number',\n",
    "    'PD': 'Part of Speech',\n",
    "    'V': 'Verb',\n",
    "}"
   ]
  },
  {
   "cell_type": "code",
   "execution_count": null,
   "metadata": {
    "collapsed": false
   },
   "outputs": [],
   "source": [
    "def term_finder (line):\n",
    "    #returns the meanings of words in a line of text\n",
    "    terms = re.findall(r\"(?<=\\[)(.*?)(?=\\])\", line)\n",
    "    return terms\n",
    "\n",
    "def proper_noun_finder(line):\n",
    "    #returns a list of all the proper nouns in a line of text\n",
    "    nouns = re.findall(r\"(?<=\\:)(.*?)(?=\\[)\", line)\n",
    "    nouns = [word for word in nouns if (len(word) > 1 and word[0].isupper() and not word[1].isupper())]\n",
    "    return nouns\n",
    "\n",
    "def speech_article_finder(line, proper_noun_filter = True):\n",
    "    #returns the speech articles for proper_nouns or all words\n",
    "    terms = re.findall(r\"(?<=\\])(.*?)(?=\\s)\", line)\n",
    "    if proper_noun_filter:\n",
    "        articles = [term for term in terms if term in proper_nouns]\n",
    "    else: \n",
    "        articles = terms\n",
    "    return articles\n"
   ]
  },
  {
   "cell_type": "code",
   "execution_count": null,
   "metadata": {
    "collapsed": false,
    "scrolled": true
   },
   "outputs": [],
   "source": [
    "Enmerkar_table = Enmerkar_table.with_columns([\n",
    "    'terms', Enmerkar_table.apply(term_finder, 'text'), \n",
    "    'proper_nouns', Enmerkar_table.apply(proper_noun_finder, 'text'), \n",
    "    'speech_articles', Enmerkar_table.apply(speech_article_finder, 'text')\n",
    "    ])\n",
    "\n",
    "Enmerkar_table.show()"
   ]
  },
  {
   "cell_type": "code",
   "execution_count": null,
   "metadata": {
    "collapsed": true
   },
   "outputs": [],
   "source": [
    "def partitioning(line_no):\n",
    "    \n",
    "    ln = int(''.join(c for c in line_no if c.isdigit()))\n",
    "\n",
    "    if(ln <= 13):\n",
    "        return \"1.1\"\n",
    "    elif (ln <= 21):\n",
    "        return \"1.2\"\n",
    "    \n",
    "    elif (ln <= 39):\n",
    "        return \"2.1.1\"\n",
    "    elif (ln <= 51):\n",
    "        return \"2.1.2\"\n",
    "    elif (ln <= 69):\n",
    "        return \"2.1.3\"\n",
    "    \n",
    "    elif (ln <= 76):\n",
    "        return \"2.2.1\"\n",
    "    elif (ln <= 90):\n",
    "        return \"2.2.2\"\n",
    "    elif (ln <= 113):\n",
    "        return \"2.2.3\"\n",
    "    \n",
    "    elif (ln <= 127):\n",
    "        return \"2.3.1\"\n",
    "    elif (ln <= 132):\n",
    "        return \"2.3.2\"\n",
    "    elif (ln <= 134):\n",
    "        return \"2.3.3\"\n",
    "    \n",
    "    elif (ln <= 138):\n",
    "        return \"3.1.1\"\n",
    "    elif (ln <= 149):\n",
    "        return \"3.1.2\"\n",
    "    elif (ln <= 162):\n",
    "        return \"3.1.3\"\n",
    "    elif (ln <= 169):\n",
    "        return \"3.1.4\"\n",
    "    \n",
    "    elif (ln <= 184):\n",
    "        return \"3.2.1\"\n",
    "    elif (ln <= 197):\n",
    "        return \"3.2.2\"\n",
    "    elif (ln <= 205):\n",
    "        return \"3.2.3\"\n",
    "    elif (ln <= 210):\n",
    "        return \"3.2.4\"\n",
    "    elif (ln <= 221):\n",
    "        return \"3.2.5\"\n",
    "    \n",
    "    elif (ln <= 227):\n",
    "        return \"4.1\"\n",
    "    \n",
    "    elif (ln <= 248):\n",
    "        return \"4.2.1\"\n",
    "    elif (ln <= 254):\n",
    "        return \"4.2.2\"\n",
    "    elif (ln <= 263):\n",
    "        return \"4.2.3\"\n",
    "    elif (ln <= 273):\n",
    "        return \"4.2.4\"\n",
    "    \n",
    "    elif (ln <= 280):\n",
    "        return \"5.1\"\n",
    "    elif (ln <= 283):\n",
    "        return \"5.2\"\n",
    "    elif (ln <= 310):\n",
    "        return \"B\"\n",
    "    return \"0\"\n",
    "\n",
    "def small_partition(line_no):\n",
    "    ln = int(''.join(c for c in line_no if c.isdigit()))\n",
    "    if(ln <= 13):\n",
    "        return \"1.1\"\n",
    "    elif (ln <= 21):\n",
    "        return \"1.2\"\n",
    "    elif (ln <= 69):\n",
    "        return \"2.1\"\n",
    "    elif (ln <= 113):\n",
    "        return \"2.2\"\n",
    "    elif (ln <= 134):\n",
    "        return \"2.3\"\n",
    "    elif (ln <= 169):\n",
    "        return \"3.1\"\n",
    "    elif (ln <= 221):\n",
    "        return \"3.2\"\n",
    "    elif (ln <= 227):\n",
    "        return \"4.1\"\n",
    "    elif (ln <= 273):\n",
    "        return \"4.2\"\n",
    "    elif (ln <= 280):\n",
    "        return \"5.1\"\n",
    "    elif (ln <= 283):\n",
    "        return \"5.2\"\n",
    "    elif (ln <= 310):\n",
    "        return \"6\"\n",
    "    return \"0\""
   ]
  },
  {
   "cell_type": "code",
   "execution_count": null,
   "metadata": {
    "collapsed": false,
    "scrolled": false
   },
   "outputs": [],
   "source": [
    "Enmerkar_table.append_column('section', Enmerkar_table.apply(partitioning, 'l_no'))\n",
    "Enmerkar_graph = Enmerkar_table.select(['proper_nouns', 'speech_articles', 'section']).group('section', list)\n",
    "Enmerkar_graph"
   ]
  },
  {
   "cell_type": "code",
   "execution_count": null,
   "metadata": {
    "collapsed": false
   },
   "outputs": [],
   "source": [
    "def list_flattening(pn_list):\n",
    "    return [noun for nouns in pn_list for noun in nouns]\n",
    "\n",
    "Enmerkar_graph.append_column('speech articles', Enmerkar_graph.apply(list_flattening, 'speech_articles list'))\n",
    "Enmerkar_graph.append_column('proper nouns', Enmerkar_graph.apply(list_flattening, 'proper_nouns list'))\n",
    "Enmerkar_graph = Enmerkar_graph.drop(['proper_nouns list', 'speech_articles list'])\n",
    "Enmerkar_graph"
   ]
  },
  {
   "cell_type": "code",
   "execution_count": null,
   "metadata": {
    "collapsed": false,
    "scrolled": true
   },
   "outputs": [],
   "source": [
    "def partitioner (i):\n",
    "    rows = []\n",
    "    section = Enmerkar_graph['section'][i]\n",
    "    speech_articles = Enmerkar_graph['speech articles'][i]\n",
    "    proper_nouns = Enmerkar_graph['proper nouns'][i]\n",
    "    for j in range(len(speech_articles)):\n",
    "        article = speech_articles[j]\n",
    "        proper_noun = proper_nouns[j]\n",
    "        rows.append([section, article, proper_noun])\n",
    "    return rows\n",
    "\n",
    "Enmerkar_table_section = Table(['section', 'speech articles', 'proper nouns'])\n",
    "for i in range(Enmerkar_graph.num_rows):\n",
    "    Enmerkar_table_section = Enmerkar_table_section.with_rows(partitioner(i))\n",
    "Enmerkar_table_section"
   ]
  },
  {
   "cell_type": "code",
   "execution_count": null,
   "metadata": {
    "collapsed": false
   },
   "outputs": [],
   "source": [
    "proper_noun_by_section = Enmerkar_table_section.pivot('proper nouns', rows = 'section')\n",
    "name_counts = []\n",
    "for name in proper_noun_by_section.drop('section').labels:\n",
    "    name_counts.append([name, np.sum(proper_noun_by_section[name])])\n",
    "\n",
    "top_7_names = ['Aratta', 'En-suhgir-ana', 'Enmerkar', 'Inana', 'Nisaba', 'Saŋburu', 'Unug']"
   ]
  },
  {
   "cell_type": "code",
   "execution_count": null,
   "metadata": {
    "collapsed": false,
    "scrolled": true
   },
   "outputs": [],
   "source": [
    "names_section_graph = proper_noun_by_section.with_column(\n",
    "    'section', range(1, proper_noun_by_section.num_rows+1))\n",
    "\n",
    "aratta_unug_section_graph = names_section_graph.select(['Aratta', 'Unug', 'section']).plot('section')\n",
    "#notice Aratta is the only one mentioned in the section 4.2.3"
   ]
  },
  {
   "cell_type": "code",
   "execution_count": null,
   "metadata": {
    "collapsed": false
   },
   "outputs": [],
   "source": [
    "top_7_names_graph = names_section_graph.select(top_7_names + ['section']).plot('section')"
   ]
  },
  {
   "cell_type": "code",
   "execution_count": null,
   "metadata": {
    "collapsed": false
   },
   "outputs": [],
   "source": [
    "names_section_graph.plot('section')"
   ]
  },
  {
   "cell_type": "markdown",
   "metadata": {},
   "source": [
    "### Plot character arcs by line number"
   ]
  },
  {
   "cell_type": "code",
   "execution_count": null,
   "metadata": {
    "collapsed": false
   },
   "outputs": [],
   "source": [
    "from ipywidgets import interact, interactive, fixed\n",
    "import ipywidgets as widgets"
   ]
  },
  {
   "cell_type": "code",
   "execution_count": null,
   "metadata": {
    "collapsed": false
   },
   "outputs": [],
   "source": [
    "def noun_counts(noun, proper_nouns):\n",
    "    noun_count = []\n",
    "    for i in np.arange(len(proper_nouns)):\n",
    "        noun_count.append(proper_nouns[i].count(noun))\n",
    "    return noun_count"
   ]
  },
  {
   "cell_type": "code",
   "execution_count": null,
   "metadata": {
    "collapsed": false
   },
   "outputs": [],
   "source": [
    "names_cumulative_graph = Enmerkar_table.select(['l_no', 'proper_nouns'])\n",
    "unique_nouns = np.sort(list(set(list_flattening(names_cumulative_graph.column('proper_nouns')))))\n",
    "for i in np.arange(1, len(unique_nouns)+1):\n",
    "    current_noun = unique_nouns[i-1]\n",
    "    names_cumulative_graph.append_column(current_noun, np.cumsum(noun_counts(current_noun, names_cumulative_graph.column('proper_nouns'))))\n",
    "\n",
    "names_cumulative_graph = names_cumulative_graph.drop('proper_nouns')"
   ]
  },
  {
   "cell_type": "code",
   "execution_count": null,
   "metadata": {
    "collapsed": false
   },
   "outputs": [],
   "source": [
    "def plot(name, graph, prefix):\n",
    "    if name != 'None':\n",
    "        line_graph = graph.select([prefix] + [name])\n",
    "        plt.plot(line_graph[0], line_graph[1])\n",
    "        \n",
    "def plot_cumulative_characters(name1, name2, name3, name4):\n",
    "        plot(name1, names_cumulative_graph, 'l_no')\n",
    "        plot(name2, names_cumulative_graph, 'l_no')\n",
    "        plot(name3, names_cumulative_graph, 'l_no')\n",
    "        plot(name4, names_cumulative_graph, 'l_no')\n",
    "        \n",
    "def plot_section_characters(name1, name2, name3, name4):\n",
    "        plot(name1, names_section_graph, 'section')\n",
    "        plot(name2, names_section_graph, 'section')\n",
    "        plot(name3, names_section_graph, 'section')\n",
    "        plot(name4, names_section_graph, 'section')\n",
    "    \n",
    "unique_nouns = tuple(['None'] + list(unique_nouns))"
   ]
  },
  {
   "cell_type": "code",
   "execution_count": null,
   "metadata": {
    "collapsed": false
   },
   "outputs": [],
   "source": [
    "interact(plot_cumulative_characters, name1=unique_nouns, name2=unique_nouns, name3=unique_nouns, name4=unique_nouns)"
   ]
  },
  {
   "cell_type": "code",
   "execution_count": null,
   "metadata": {
    "collapsed": false
   },
   "outputs": [],
   "source": [
    "interact(plot_section_characters, name1=unique_nouns, name2=unique_nouns, name3=unique_nouns, name4=unique_nouns)"
   ]
  },
  {
   "cell_type": "markdown",
   "metadata": {},
   "source": []
  }
 ],
 "metadata": {
  "anaconda-cloud": {},
  "kernelspec": {
   "display_name": "Python [default]",
   "language": "python",
   "name": "python3"
  },
  "language_info": {
   "codemirror_mode": {
    "name": "ipython",
    "version": 3
   },
   "file_extension": ".py",
   "mimetype": "text/x-python",
   "name": "python",
   "nbconvert_exporter": "python",
   "pygments_lexer": "ipython3",
   "version": "3.5.2"
  },
  "widgets": {
   "state": {
    "20b918438b684c0dafbe71a270b2df95": {
     "views": [
      {
       "cell_index": 21
      }
     ]
    },
    "4c9369f648144a0eab679134f363a41b": {
     "views": [
      {
       "cell_index": 22
      }
     ]
    }
   },
   "version": "1.2.0"
  }
 },
 "nbformat": 4,
 "nbformat_minor": 0
}
