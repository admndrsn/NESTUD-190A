{
 "cells": [
  {
   "cell_type": "markdown",
   "metadata": {},
   "source": [
    "# Heat Maps and Trees\n",
    "\n",
    "Today we will be going over more ways to visualize your data. As usual, if you have any questions, feel free to ask!\n",
    "\n",
    "Documentation continues to be your best friend:\n",
    "* http://bokeh.pydata.org\n",
    "* https://pygraphviz.github.io"
   ]
  },
  {
   "cell_type": "markdown",
   "metadata": {},
   "source": [
    "### Installation"
   ]
  },
  {
   "cell_type": "code",
   "execution_count": null,
   "metadata": {
    "collapsed": true
   },
   "outputs": [],
   "source": [
    "#!brew install graphviz\n",
    "#!pip install pygraphviz --install-option=\"--include-path=/usr/local/include/graphviz/\" \\\n",
    "#--install-option=\"--library-path=/usr/local/lib/graphviz\""
   ]
  },
  {
   "cell_type": "markdown",
   "metadata": {},
   "source": [
    "### Import Statements"
   ]
  },
  {
   "cell_type": "code",
   "execution_count": null,
   "metadata": {
    "collapsed": true
   },
   "outputs": [],
   "source": [
    "from datascience import *\n",
    "from IPython.display import Image\n",
    "from bokeh.charts import HeatMap, output_file, show\n",
    "import pygraphviz as PG\n",
    "import numpy as np\n",
    "%matplotlib inline"
   ]
  },
  {
   "cell_type": "markdown",
   "metadata": {},
   "source": [
    "### Reading in the data"
   ]
  },
  {
   "cell_type": "code",
   "execution_count": null,
   "metadata": {
    "collapsed": false,
    "scrolled": true
   },
   "outputs": [],
   "source": [
    "tu38 = Table().read_table('TU 38 master - Sheet1.csv')\n",
    "tu38"
   ]
  },
  {
   "cell_type": "code",
   "execution_count": null,
   "metadata": {
    "collapsed": false,
    "scrolled": true
   },
   "outputs": [],
   "source": [
    "public = Table.read_table('pubschls.csv')\n",
    "public"
   ]
  },
  {
   "cell_type": "code",
   "execution_count": null,
   "metadata": {
    "collapsed": false,
    "scrolled": true
   },
   "outputs": [],
   "source": [
    "graffiti = Table.read_table('Graffiti.csv')\n",
    "graffiti"
   ]
  },
  {
   "cell_type": "markdown",
   "metadata": {},
   "source": [
    "### Heat Maps"
   ]
  },
  {
   "cell_type": "markdown",
   "metadata": {},
   "source": [
    "Per Wikipedia: \"A heat map (or heatmap) is a graphical representation of data where the individual values contained in a matrix are represented as colors.\" They are great tools for visualizing the relationship between two variables, and can be applied to large sets of data easily. In order to create one, we need to find two variables that we want to compare, and come up with some metric to quantify their relationship. In the case of this first dataset, we are going to look at the relationship between deities / groups of deities and the substances that they're offered. We will use the frequency of their appearance together as our way to color the chart."
   ]
  },
  {
   "cell_type": "code",
   "execution_count": null,
   "metadata": {
    "collapsed": false,
    "scrolled": true
   },
   "outputs": [],
   "source": [
    "# grouping the data by SUBSTANCE and DEITY\n",
    "groupeded = tu38.group(['substance', 'deity'])\n",
    "\n",
    "# converting to a pandas dataframe\n",
    "groupeded = groupeded.to_df()\n",
    "groupeded"
   ]
  },
  {
   "cell_type": "code",
   "execution_count": null,
   "metadata": {
    "collapsed": true
   },
   "outputs": [],
   "source": [
    "# making a bokeh heatmap from the df GROUPEDED\n",
    "hm = HeatMap(groupeded, x='substance', y='deity', values='count',\n",
    "             title='Substance x Deity', stat=None)\n",
    "\n",
    "output_file('tu38_heatmap.html')\n",
    "show(hm)"
   ]
  },
  {
   "cell_type": "markdown",
   "metadata": {},
   "source": [
    "What we just did is very similar to a pivot table, but using colors to display intensity instead of numbers."
   ]
  },
  {
   "cell_type": "code",
   "execution_count": null,
   "metadata": {
    "collapsed": false,
    "scrolled": true
   },
   "outputs": [],
   "source": [
    "# this pivot table is similar in representation to what the above heat map represents\n",
    "pivoted = tu38.pivot('deity', 'substance')\n",
    "data = pivoted.to_df()\n",
    "\n",
    "w_index = data.set_index('substance')\n",
    "w_index"
   ]
  },
  {
   "cell_type": "markdown",
   "metadata": {},
   "source": [
    "Next we are going to use public school data. We are going to visualize the relationship between counties and funding types, and quantify the relationship with their average DOC (meaning?)."
   ]
  },
  {
   "cell_type": "code",
   "execution_count": null,
   "metadata": {
    "collapsed": false,
    "scrolled": true
   },
   "outputs": [],
   "source": [
    "# grouping PUBLIC by COUNTY and FUNDINGTYPE, and using np.mean to calculate \n",
    "# the average of all columns for that group\n",
    "public_grouped = public.group(['County', 'FundingType'], np.mean).to_df()\n",
    "public_grouped"
   ]
  },
  {
   "cell_type": "code",
   "execution_count": null,
   "metadata": {
    "collapsed": false
   },
   "outputs": [],
   "source": [
    "# heat map that uses the average DOC for its color saturation\n",
    "hm = HeatMap(public_grouped, x='County', y='FundingType', values='DOC mean',\n",
    "             title='County x Funding Type', stat=None)\n",
    "\n",
    "output_file('school_heatmap.html')\n",
    "show(hm)"
   ]
  },
  {
   "cell_type": "markdown",
   "metadata": {},
   "source": [
    "### Trees"
   ]
  },
  {
   "cell_type": "markdown",
   "metadata": {},
   "source": [
    "Sometimes it is helpful to put your data in a tree structure to represent relationships. To quote Wikipedia, \"A tree structure or tree diagram is a way of representing the hierarchical nature of a structure in a graphical form.\" We will start with a simple example, then move onto a multi-layered tree."
   ]
  },
  {
   "cell_type": "code",
   "execution_count": null,
   "metadata": {
    "collapsed": false
   },
   "outputs": [],
   "source": [
    "# selecting columns that will represent the relationship\n",
    "# that we want to display\n",
    "graffiti_sub = graffiti.select('Temple', 'Code')\n",
    "\n",
    "#picking out a single temple to show the tree of\n",
    "temple_d = graffiti_sub.where('Temple', 'D')\n",
    "temple_d"
   ]
  },
  {
   "cell_type": "code",
   "execution_count": null,
   "metadata": {
    "collapsed": false,
    "scrolled": true
   },
   "outputs": [],
   "source": [
    "# initializing a pygraphviz tree object\n",
    "B = PG.AGraph()\n",
    "\n",
    "# we are going to iterate through each row to add the pairs to the tree\n",
    "row = 0\n",
    "while row < temple_d.num_rows:\n",
    "    count = 0\n",
    "    while count < temple_d.num_columns-1:\n",
    "        temple_d.apply((lambda x,y: B.add_edge(x, y)), [count,count+1])\n",
    "        count += 1\n",
    "    row+=1\n",
    "\n",
    "    \n",
    "# save the graph in dot format\n",
    "B.write('ademo.dot')\n",
    "\n",
    "# pygraphviz renders graphs in neato by default, \n",
    "# so you need to specify dot as the layout engine\n",
    "B.layout(prog='dot')\n",
    "\n",
    "# creating a png\n",
    "B.draw('file.png')\n",
    "\n",
    "# displaying that png\n",
    "Image('file.png')"
   ]
  },
  {
   "cell_type": "markdown",
   "metadata": {},
   "source": [
    "The above graph is a simple example of the kind of structure that we can implement. The relationship on display is that there is a temple (D), and that temple is the common factor for each of the branches. As we get more complicated and have overlapping edges and nodes, we will have to get more creative about how we construct the trees."
   ]
  },
  {
   "cell_type": "code",
   "execution_count": null,
   "metadata": {
    "collapsed": false
   },
   "outputs": [],
   "source": [
    "# selecting out features that we care about for our tree\n",
    "slct = tu38.select('deity', 'position', 'utensil', 'substance')\n",
    "slct"
   ]
  },
  {
   "cell_type": "code",
   "execution_count": null,
   "metadata": {
    "collapsed": false
   },
   "outputs": [],
   "source": [
    "# we are going to make a tree for just Anu, so we subset the table\n",
    "anu = slct.where('deity', 'Anu')\n",
    "anu"
   ]
  },
  {
   "cell_type": "code",
   "execution_count": null,
   "metadata": {
    "collapsed": false
   },
   "outputs": [],
   "source": [
    "# we are going to create id's for each of the values, like we did with networks,\n",
    "# but instead of numbers, we are going to use permutations of the tree sequences\n",
    "permutations = anu.group(['deity', 'position', 'utensil', 'substance']).drop('count')\n",
    "original = permutations.copy()\n",
    "\n",
    "count = 0\n",
    "while count < permutations.num_columns-1:\n",
    "    changed = permutations.apply((lambda x,y: x + ' ' + y), [count,count+1])\n",
    "    count += 1\n",
    "    permutations[permutations.labels[count]] = changed\n",
    "permutations"
   ]
  },
  {
   "cell_type": "code",
   "execution_count": null,
   "metadata": {
    "collapsed": false
   },
   "outputs": [],
   "source": [
    "# creating a dictionary where we will map the permutations to their original values\n",
    "label_dictionary = {}\n",
    "\n",
    "for row in range(original.num_rows):\n",
    "    graph_row = original.take(row)\n",
    "    key_row = permutations.take(row)\n",
    "    for i in range(original.num_columns):\n",
    "        label_dictionary[key_row.get(i)[0]] = graph_row.get(i)[0]\n",
    "label_dictionary"
   ]
  },
  {
   "cell_type": "code",
   "execution_count": null,
   "metadata": {
    "collapsed": false
   },
   "outputs": [],
   "source": [
    "# initializing the tree\n",
    "B = PG.AGraph()\n",
    "\n",
    "# creating all of the nodes\n",
    "for x in label_dictionary.keys():\n",
    "    B.add_node(x, label=label_dictionary[x])\n",
    "\n",
    "# connecting the nodes with the proper edges\n",
    "count = 0\n",
    "while count < permutations.num_columns-1:\n",
    "    permutations.apply((lambda x,y: B.add_edge(x, y)), [count,count+1])\n",
    "    count += 1\n",
    "    \n",
    "B.write('ademo.dot')\n",
    "B.layout(prog='dot')\n",
    "B.draw('file.png')\n",
    "Image('file.png')"
   ]
  },
  {
   "cell_type": "code",
   "execution_count": null,
   "metadata": {
    "collapsed": false
   },
   "outputs": [],
   "source": [
    "# the difference between this tree and the last one is 'strict=False'\n",
    "# this allows a line for each edge, adding weight to the connection\n",
    "B = PG.AGraph(strict=False)\n",
    "\n",
    "for x in label_dictionary.keys():\n",
    "    B.add_node(x, label=label_dictionary[x])\n",
    "\n",
    "count = 0\n",
    "while count < permutations.num_columns-1:\n",
    "    permutations.apply((lambda x,y: B.add_edge(x, y)), [count,count+1])\n",
    "    count += 1\n",
    "    \n",
    "B.write('ademo.dot')\n",
    "B.layout(prog='dot')\n",
    "B.draw('file.png')\n",
    "Image('file.png')"
   ]
  },
  {
   "cell_type": "code",
   "execution_count": null,
   "metadata": {
    "collapsed": false,
    "scrolled": false
   },
   "outputs": [],
   "source": [
    "# this tree shows all of the possbile connections that each level has\n",
    "# only a level to level display, does not show relationships beyond the adjacent node\n",
    "B = PG.AGraph()\n",
    "\n",
    "row = 0\n",
    "while row < permutations.num_rows:\n",
    "    count = 0\n",
    "    while count < permutations.num_columns-1:\n",
    "        original.apply((lambda x,y: B.add_edge(x, y)), [count,count+1])\n",
    "        count += 1\n",
    "    row+=1\n",
    "    \n",
    "B.write('ademo.dot')\n",
    "B.layout(prog='dot')\n",
    "B.draw('file.png')\n",
    "Image('file.png')"
   ]
  }
 ],
 "metadata": {
  "anaconda-cloud": {},
  "kernelspec": {
   "display_name": "Python [Root]",
   "language": "python",
   "name": "Python [Root]"
  },
  "language_info": {
   "codemirror_mode": {
    "name": "ipython",
    "version": 3
   },
   "file_extension": ".py",
   "mimetype": "text/x-python",
   "name": "python",
   "nbconvert_exporter": "python",
   "pygments_lexer": "ipython3",
   "version": "3.5.2"
  }
 },
 "nbformat": 4,
 "nbformat_minor": 0
}
